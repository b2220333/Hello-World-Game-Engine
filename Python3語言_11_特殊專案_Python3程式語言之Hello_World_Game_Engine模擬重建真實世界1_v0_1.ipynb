{
  "nbformat": 4,
  "nbformat_minor": 0,
  "metadata": {
    "colab": {
      "name": "Python3語言--11.特殊專案.Python3程式語言之Hello World Game Engine模擬重建真實世界1_v0.1",
      "provenance": [],
      "collapsed_sections": [],
      "authorship_tag": "ABX9TyMQaHhF0eCZ+TZcWZB5Napw",
      "include_colab_link": true
    },
    "kernelspec": {
      "name": "python3",
      "display_name": "Python 3"
    },
    "language_info": {
      "name": "python"
    }
  },
  "cells": [
    {
      "cell_type": "markdown",
      "metadata": {
        "id": "view-in-github",
        "colab_type": "text"
      },
      "source": [
        "<a href=\"https://colab.research.google.com/github/b2220333/Hello-World-Game-Engine/blob/main/Python3%E8%AA%9E%E8%A8%80_11_%E7%89%B9%E6%AE%8A%E5%B0%88%E6%A1%88_Python3%E7%A8%8B%E5%BC%8F%E8%AA%9E%E8%A8%80%E4%B9%8BHello_World_Game_Engine%E6%A8%A1%E6%93%AC%E9%87%8D%E5%BB%BA%E7%9C%9F%E5%AF%A6%E4%B8%96%E7%95%8C1_v0_1.ipynb\" target=\"_parent\"><img src=\"https://colab.research.google.com/assets/colab-badge.svg\" alt=\"Open In Colab\"/></a>"
      ]
    },
    {
      "cell_type": "markdown",
      "source": [
        "# 建立世界"
      ],
      "metadata": {
        "id": "kxWCBk3_9iE5"
      }
    },
    {
      "cell_type": "markdown",
      "source": [
        "## 空架構"
      ],
      "metadata": {
        "id": "f20-4FH09_Xx"
      }
    },
    {
      "cell_type": "code",
      "execution_count": 1,
      "metadata": {
        "id": "q2qQBR019C39"
      },
      "outputs": [],
      "source": [
        "class World:\n",
        "  pass"
      ]
    },
    {
      "cell_type": "markdown",
      "source": [
        "## 建立最初世界"
      ],
      "metadata": {
        "id": "dl4UgsV0-Bj4"
      }
    },
    {
      "cell_type": "code",
      "source": [
        "class World:\n",
        "  pass\n",
        "world = World()"
      ],
      "metadata": {
        "id": "WRxwUQ7x-FO4"
      },
      "execution_count": 10,
      "outputs": []
    },
    {
      "cell_type": "markdown",
      "source": [
        "# 建立人物"
      ],
      "metadata": {
        "id": "ARk17tO69pbY"
      }
    },
    {
      "cell_type": "code",
      "source": [
        "class Person:\n",
        "  pass"
      ],
      "metadata": {
        "id": "KTdYhSix9nLp"
      },
      "execution_count": 2,
      "outputs": []
    },
    {
      "cell_type": "markdown",
      "source": [
        "# 建立第一個人物"
      ],
      "metadata": {
        "id": "B_F_YnhU-eqH"
      }
    },
    {
      "cell_type": "code",
      "source": [
        "class Person:\n",
        "  pass\n",
        "sam = Person()"
      ],
      "metadata": {
        "id": "jci8Kzs7-hg_"
      },
      "execution_count": 6,
      "outputs": []
    },
    {
      "cell_type": "markdown",
      "source": [
        "# 人物有名字（name）"
      ],
      "metadata": {
        "id": "b_d_Xofl9zUv"
      }
    },
    {
      "cell_type": "code",
      "source": [
        "class Person:\n",
        "  ######人物有名字（1/2）######\n",
        "  name=''\n",
        "  ######人物有名字（1/2）######\n",
        "\n",
        "sam = Person()\n",
        "######人物有名字（2/2）######\n",
        "sam.name = 'sam'\n",
        "print(sam.name)\n",
        "######人物有名字（2/2）######"
      ],
      "metadata": {
        "colab": {
          "base_uri": "https://localhost:8080/"
        },
        "id": "Ro3fQMwC9ssQ",
        "outputId": "31cb525a-a3e2-41ed-d44b-54eb2316c119"
      },
      "execution_count": 18,
      "outputs": [
        {
          "output_type": "stream",
          "name": "stdout",
          "text": [
            "sam\n"
          ]
        }
      ]
    },
    {
      "cell_type": "markdown",
      "source": [
        "# 給世界一個名字"
      ],
      "metadata": {
        "id": "fJfee9GB_brB"
      }
    },
    {
      "cell_type": "code",
      "source": [
        "class World:\n",
        "  name = ''\n",
        "world = World()\n",
        "world.name = 'World'\n",
        "print(world.name)"
      ],
      "metadata": {
        "colab": {
          "base_uri": "https://localhost:8080/"
        },
        "id": "GFfWv5R3_fcI",
        "outputId": "9cf60025-6149-43a5-851b-c8b0efc32a96"
      },
      "execution_count": 19,
      "outputs": [
        {
          "output_type": "stream",
          "name": "stdout",
          "text": [
            "World\n"
          ]
        }
      ]
    },
    {
      "cell_type": "markdown",
      "source": [
        "# 人物會說話（message）"
      ],
      "metadata": {
        "id": "_ZAbVHn6_A5m"
      }
    },
    {
      "cell_type": "code",
      "source": [
        "# 建立世界\n",
        "class World:\n",
        "  name = ''\n",
        "world = World()\n",
        "world.name = 'World'\n",
        "\n",
        "# 建立人物\n",
        "class Person:\n",
        "  #人物有名字（1/2）\n",
        "  name=''\n",
        "  ######人物會說話（1/2）######\n",
        "  message = ''\n",
        "  ######人物會說話（1/2）######\n",
        "\n",
        "sam = Person()\n",
        "#人物有名字（2/2）\n",
        "sam.name = 'sam'\n",
        "\n",
        "######人物會說話（2/2）######\n",
        "# sam說：Hello World\n",
        "sam.message = sam.name + ':' + 'Hello ' + world.name\n",
        "print(sam.message)\n",
        "######人物會說話（2/2）######"
      ],
      "metadata": {
        "colab": {
          "base_uri": "https://localhost:8080/"
        },
        "id": "JSrLcRoK966p",
        "outputId": "b9717a12-3d19-435d-a504-3eac27915104"
      },
      "execution_count": 23,
      "outputs": [
        {
          "output_type": "stream",
          "name": "stdout",
          "text": [
            "sam:Hello World\n"
          ]
        }
      ]
    },
    {
      "cell_type": "markdown",
      "source": [
        "# 人物在世界中有位置資訊（position）"
      ],
      "metadata": {
        "id": "oHm4CeurA8KO"
      }
    },
    {
      "cell_type": "code",
      "source": [
        "# 建立世界\n",
        "class World:\n",
        "  name = ''\n",
        "world = World()\n",
        "world.name = 'World'\n",
        "\n",
        "# 建立人物\n",
        "class Person:\n",
        "  #人物有名字（1/2）\n",
        "  name=''\n",
        "  #人物會說話（1/2）\n",
        "  message = ''\n",
        "  ######人物在世界中有位置資訊（1/2）######\n",
        "  x = None\n",
        "  y = None\n",
        "  z = None\n",
        "  position = (x, y, z)\n",
        "  ######人物在世界中有位置資訊（1/2）######\n",
        "\n",
        "sam = Person()\n",
        "#人物有名字（2/2）\n",
        "sam.name = 'sam lin'\n",
        "\n",
        "######人物在世界中有位置資訊（2/2）######\n",
        "# 假設sam在世界正中央\n",
        "sam.position = (0, 0, 0)\n",
        "print(sam.position)\n",
        "######人物在世界中有位置資訊（2/2）######\n",
        "\n",
        "#人物會說話（2/2）\n",
        "# sam說：Hello World\n",
        "sam.message = sam.name + ':' + 'Hello ' + world.name"
      ],
      "metadata": {
        "colab": {
          "base_uri": "https://localhost:8080/"
        },
        "id": "7VSPT1nTAgDn",
        "outputId": "e7df52e2-0bb7-41c2-e7bc-ef193a94dcdc"
      },
      "execution_count": 24,
      "outputs": [
        {
          "output_type": "stream",
          "name": "stdout",
          "text": [
            "(0, 0, 0)\n"
          ]
        }
      ]
    },
    {
      "cell_type": "code",
      "source": [
        ""
      ],
      "metadata": {
        "id": "ojRxl1FfChk9"
      },
      "execution_count": null,
      "outputs": []
    }
  ]
}